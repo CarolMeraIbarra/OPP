{
 "cells": [
  {
   "cell_type": "markdown",
   "metadata": {},
   "source": [
    "## Ejercicio 2 de OOP"
   ]
  },
  {
   "cell_type": "markdown",
   "metadata": {},
   "source": [
    "<img src=\"./Diagramas_clases/01_herencia.png\" alt=\"Ex 1\" width=\"500\"> "
   ]
  },
  {
   "cell_type": "markdown",
   "metadata": {},
   "source": [
    "- **void eat()**: imprime 'Yummy yummy! estoy comiendo'\n",
    "- **void meow()**: Imprime 'Soy un gato y hago meow!'\n",
    "- **void bark()**: Imprime 'Soy un perro y hago woof!'"
   ]
  },
  {
   "cell_type": "code",
   "execution_count": null,
   "metadata": {
    "vscode": {
     "languageId": "plaintext"
    }
   },
   "outputs": [],
   "source": [
    "class Animal:\n",
    "    def __init__(self, name):\n",
    "        self.name = name\n",
    "\n",
    "\n",
    "    def eat(self):\n",
    "        print(f'Yummy yummy! estoy comiendo')\n",
    "\n",
    "\n",
    "class Cat(Animal):\n",
    "    def meow(self):\n",
    "        print(f'Soy {self.name} y hago meow! ')\n",
    "\n",
    "\n",
    "class Dog(Animal):\n",
    "    def bark(self):\n",
    "        print(f'Soy {self.name} y hago woof!')"
   ]
  },
  {
   "cell_type": "code",
   "execution_count": null,
   "metadata": {
    "vscode": {
     "languageId": "plaintext"
    }
   },
   "outputs": [],
   "source": [
    "michu = Cat('michi')\n",
    "firulais = Dog('firulais')\n",
    "\n",
    "michi.meow()\n",
    "michi.eat()\n",
    "firulais.bark()\n",
    "firulais.eat()"
   ]
  }
 ],
 "metadata": {
  "language_info": {
   "name": "python"
  }
 },
 "nbformat": 4,
 "nbformat_minor": 2
}

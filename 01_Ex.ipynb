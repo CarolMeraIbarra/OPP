{
 "cells": [
  {
   "cell_type": "markdown",
   "metadata": {},
   "source": [
    "## Ejercicio 1 de OOP"
   ]
  },
  {
   "cell_type": "markdown",
   "metadata": {},
   "source": [
    "<img src=\"./Diagramas_clases/01_create_class.png\" alt=\"Ex 1\" width=\"500\"> "
   ]
  },
  {
   "cell_type": "markdown",
   "metadata": {},
   "source": [
    "- **int id:** Asigna un identificador unico a cada instancia de ´ Employee ´.\n",
    "- **int new_id:** Variable global de ´Employee´ \n",
    "- **void say_id():** Imprime el ´id´de la instancia. "
   ]
  },
  {
   "cell_type": "code",
   "execution_count": null,
   "metadata": {
    "vscode": {
     "languageId": "plaintext"
    }
   },
   "outputs": [],
   "source": [
    "class Employee:\n",
    "    new_id = 1\n",
    "\n",
    "    def __init__(self, name, age):\n",
    "        self.id = Employee.new_id\n",
    "        self.name = name\n",
    "        self.age = age\n",
    "        Employee.new_id += 1\n",
    "\n",
    "    def say_id(self):\n",
    "        print(f'Mi nombre es {self.name} y mi id es {self.id}')\n",
    "\n",
    "    def say_age(self):\n",
    "        print(f'Mi edad es {self.age} ')"
   ]
  },
  {
   "cell_type": "code",
   "execution_count": null,
   "metadata": {
    "vscode": {
     "languageId": "plaintext"
    }
   },
   "outputs": [],
   "source": [
    "Savana = Employee('Savana', 22)\n",
    "Savana.say_id()\n",
    "Savana.say_age()\n",
    "\n",
    "Dakota = Employee('Dakota', 18)\n",
    "Dakota.say_id()\n",
    "Dakota.say_age()\n",
    "\n",
    "#con cada ejecucion se instancian mas objetos"
   ]
  }
 ],
 "metadata": {
  "language_info": {
   "name": "python"
  }
 },
 "nbformat": 4,
 "nbformat_minor": 2
}
